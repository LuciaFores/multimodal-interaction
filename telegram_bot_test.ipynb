{
 "cells": [
  {
   "cell_type": "code",
   "execution_count": 1,
   "metadata": {},
   "outputs": [],
   "source": [
    "import os\n",
    "from dotenv import load_dotenv\n",
    "from telethon import TelegramClient, events\n",
    "import asyncio"
   ]
  },
  {
   "cell_type": "code",
   "execution_count": 2,
   "metadata": {},
   "outputs": [],
   "source": [
    "load_dotenv()\n",
    "API_KEY = os.getenv(\"API_KEY\")\n",
    "API_HASH = os.getenv(\"API_HASH\")\n",
    "BOT_TOKEN = os.getenv(\"BOT_TOKEN\")\n",
    "SESSION_NAME = os.getenv(\"SESSION_NAME\")"
   ]
  },
  {
   "cell_type": "code",
   "execution_count": 3,
   "metadata": {},
   "outputs": [],
   "source": [
    "client = await TelegramClient(SESSION_NAME, API_KEY, API_HASH).start(bot_token=BOT_TOKEN)"
   ]
  },
  {
   "cell_type": "code",
   "execution_count": 4,
   "metadata": {},
   "outputs": [],
   "source": [
    "@client.on(events.NewMessage(pattern=\"/start\"))\n",
    "async def handler(event):\n",
    "    await event.respond(\"Welcome to the patient helper!\")"
   ]
  },
  {
   "cell_type": "code",
   "execution_count": 5,
   "metadata": {},
   "outputs": [],
   "source": [
    "@client.on(events.NewMessage(pattern=\"/help\"))\n",
    "async def handler(event):\n",
    "    #await event.delete()\n",
    "    await event.respond(\"The bot will notify you when your assisted person needs help and when they took their medications.\")"
   ]
  },
  {
   "cell_type": "code",
   "execution_count": 6,
   "metadata": {},
   "outputs": [],
   "source": [
    "@client.on(events.NewMessage(pattern=\"/sendhelp\"))\n",
    "async def handler(event):\n",
    "    await event.delete()\n",
    "    # wait 1 second before sending the message\n",
    "    await asyncio.sleep(1)\n",
    "    await event.respond(\"Help is on the way!\")"
   ]
  }
 ],
 "metadata": {
  "kernelspec": {
   "display_name": "multimodal_interaction",
   "language": "python",
   "name": "python3"
  },
  "language_info": {
   "codemirror_mode": {
    "name": "ipython",
    "version": 3
   },
   "file_extension": ".py",
   "mimetype": "text/x-python",
   "name": "python",
   "nbconvert_exporter": "python",
   "pygments_lexer": "ipython3",
   "version": "3.1.-1"
  }
 },
 "nbformat": 4,
 "nbformat_minor": 2
}
