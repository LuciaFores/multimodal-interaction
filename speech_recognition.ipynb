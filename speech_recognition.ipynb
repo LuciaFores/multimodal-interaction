{
 "cells": [
  {
   "cell_type": "code",
   "execution_count": null,
   "metadata": {},
   "outputs": [],
   "source": [
    "from vosk import Model, KaldiRecognizer\n",
    "import pyaudio"
   ]
  },
  {
   "cell_type": "code",
   "execution_count": null,
   "metadata": {},
   "outputs": [],
   "source": [
    "model = Model(\"./model/vosk-model-small-it-0.22\")\n",
    "recognizer = KaldiRecognizer(model, 16000)"
   ]
  },
  {
   "cell_type": "code",
   "execution_count": null,
   "metadata": {},
   "outputs": [],
   "source": [
    "mic = pyaudio.PyAudio()\n",
    "stream = mic.open(\n",
    "    format=pyaudio.paInt16,\n",
    "    channels=1,\n",
    "    rate=16000,\n",
    "    input=True,\n",
    "    frames_per_buffer=8192\n",
    ")"
   ]
  },
  {
   "cell_type": "code",
   "execution_count": null,
   "metadata": {},
   "outputs": [],
   "source": [
    "stream.start_stream()\n",
    "text = None\n",
    "while True:\n",
    "    data = stream.read(4096)\n",
    "    if recognizer.AcceptWaveform(data):\n",
    "        text = recognizer.Result()\n",
    "        print(text[14:-3])"
   ]
  },
  {
   "cell_type": "code",
   "execution_count": null,
   "metadata": {},
   "outputs": [],
   "source": [
    "stream.stop_stream()"
   ]
  }
 ],
 "metadata": {
  "kernelspec": {
   "display_name": "multimodal_interaction",
   "language": "python",
   "name": "python3"
  },
  "language_info": {
   "codemirror_mode": {
    "name": "ipython",
    "version": 3
   },
   "file_extension": ".py",
   "mimetype": "text/x-python",
   "name": "python",
   "nbconvert_exporter": "python",
   "pygments_lexer": "ipython3",
   "version": "3.10.14"
  }
 },
 "nbformat": 4,
 "nbformat_minor": 2
}
