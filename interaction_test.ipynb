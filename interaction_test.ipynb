{
 "cells": [
  {
   "cell_type": "code",
   "execution_count": null,
   "metadata": {},
   "outputs": [],
   "source": [
    "# Import all the needed libraries\n",
    "from vosk import Model, KaldiRecognizer\n",
    "import pyaudio\n",
    "from gtts import gTTS\n",
    "from io import BytesIO\n",
    "from pygame import mixer\n",
    "import time\n",
    "import pandas as pd\n",
    "from paddleocr import PaddleOCR\n",
    "import cv2\n",
    "from thefuzz import fuzz\n",
    "import requests\n",
    "from dotenv import load_dotenv\n",
    "import os"
   ]
  },
  {
   "cell_type": "code",
   "execution_count": null,
   "metadata": {},
   "outputs": [],
   "source": [
    "# define a function that will be used to setup the speech recognition module\n",
    "def setup_speech_recognition():\n",
    "    # Load the model and create a recognizer\n",
    "    model = Model(\"./model/vosk-model-small-it-0.22\")\n",
    "    recognizer = KaldiRecognizer(model, 16000)\n",
    "    # setup the microphone to record audio\n",
    "    mic = pyaudio.PyAudio()\n",
    "    stream = mic.open(\n",
    "        format=pyaudio.paInt16,\n",
    "        channels=1,\n",
    "        rate=16000,\n",
    "        input=True,\n",
    "        frames_per_buffer=8192\n",
    "    )\n",
    "    # return the recognizer and the stream\n",
    "    return recognizer, stream"
   ]
  },
  {
   "cell_type": "code",
   "execution_count": null,
   "metadata": {},
   "outputs": [],
   "source": [
    "# define a function that will be used to setup the speech synthesis module\n",
    "def setup_speech_synthesis():\n",
    "    # setup the mixer to play the audio\n",
    "    mixer.init()\n",
    "    # return the mixer\n",
    "    return mixer"
   ]
  },
  {
   "cell_type": "code",
   "execution_count": null,
   "metadata": {},
   "outputs": [],
   "source": [
    "def setup_ocr():\n",
    "    # needed for the first run in which the ocr model will be downloaded\n",
    "    ocr_model = PaddleOCR(lang='it')\n",
    "    return ocr_model"
   ]
  },
  {
   "cell_type": "code",
   "execution_count": null,
   "metadata": {},
   "outputs": [],
   "source": [
    "# define a function that will be used to recognize the speech\n",
    "def recognize_speech(recognizer, stream):\n",
    "    # read the audio data from the stream\n",
    "    data = stream.read(4096)\n",
    "    # check if the data is empty\n",
    "    if len(data) == 0:\n",
    "        return None\n",
    "    # check if the recognizer has recognized the speech\n",
    "    if recognizer.AcceptWaveform(data):\n",
    "        # return the recognized speech\n",
    "        return recognizer.Result()[14:-3] # remove the first 14 characters and the last 3 characters, needed to remove the metadata\n",
    "    # return None if the speech is not recognized\n",
    "    return None"
   ]
  },
  {
   "cell_type": "code",
   "execution_count": null,
   "metadata": {},
   "outputs": [],
   "source": [
    "# define a function that will be used to synthesize the speech\n",
    "def synthesize_speech(text):\n",
    "    # create a BytesIO object to store the mp3 file\n",
    "    mp3_fp = BytesIO()\n",
    "    # create a gTTS object and write the mp3 file to the BytesIO object and so perform the synthesis\n",
    "    tts = gTTS(text, lang='it')\n",
    "    tts.write_to_fp(mp3_fp)\n",
    "    return mp3_fp"
   ]
  },
  {
   "cell_type": "code",
   "execution_count": null,
   "metadata": {},
   "outputs": [],
   "source": [
    "# define a function that will be used to play the synthesized speech\n",
    "def play_speech(mixer, mp3_fp):\n",
    "    # set the BytesIO object to the beginning of the file\n",
    "    mp3_fp.seek(0)\n",
    "    # play the mp3 file\n",
    "    mixer.music.load(mp3_fp)\n",
    "    mixer.music.play()\n",
    "    # wait until the audio is played\n",
    "    while mixer.music.get_busy():\n",
    "        time.sleep(0.1)\n",
    "    return"
   ]
  },
  {
   "cell_type": "code",
   "execution_count": null,
   "metadata": {},
   "outputs": [],
   "source": [
    "def get_bot_data(bot_token):\n",
    "    url = f\"https://api.telegram.org/bot{bot_token}/getUpdates\"\n",
    "    response = requests.get(url)\n",
    "    data = response.json()\n",
    "    return data"
   ]
  },
  {
   "cell_type": "code",
   "execution_count": null,
   "metadata": {},
   "outputs": [],
   "source": [
    "def get_chat_id(handle, data):\n",
    "    for i in data['result']:\n",
    "        if 'message' in i.keys():\n",
    "            if i['message']['chat']['username'] == handle:\n",
    "                return str(i['message']['chat']['id'])"
   ]
  },
  {
   "cell_type": "code",
   "execution_count": null,
   "metadata": {},
   "outputs": [],
   "source": [
    "def get_patient_data():\n",
    "    df_registry = pd.read_csv('./patient_registry_test.csv')\n",
    "    load_dotenv()\n",
    "    BOT_TOKEN = os.getenv(\"BOT_TOKEN\")  \n",
    "    bot_data = get_bot_data(BOT_TOKEN)\n",
    "    # create a dictionary with the patient data\n",
    "    patient = {}\n",
    "    patient['name'] = df_registry['name'][0]\n",
    "    patient['gender'] = df_registry['gender'][0]\n",
    "    patient['age'] = int(df_registry['age'][0])\n",
    "    handle_columns = [col for col in df_registry.columns if col.startswith('cg_handle_')]\n",
    "    handles = df_registry[handle_columns].values.flatten().tolist()\n",
    "    patient['chat_ids'] = []\n",
    "    for handle in handles:\n",
    "        patient['chat_ids'].append(get_chat_id(handle, bot_data))\n",
    "    return patient"
   ]
  },
  {
   "cell_type": "code",
   "execution_count": null,
   "metadata": {},
   "outputs": [],
   "source": [
    "def get_therapy_plan(day):\n",
    "    df_therapy_plan = pd.read_csv(f'./therapy_plan/therapy_plan_{day}.csv')\n",
    "    # create a dictionary with the therapy plan data\n",
    "    therapy_plan = {}\n",
    "    # iterate over the therapy plan data and get only the rows for which the column medicine_1 is not empty\n",
    "    for _, row in df_therapy_plan.iterrows():\n",
    "        if not pd.isna(row['medicine_1']): # meaning that the patient must take at least one medicine at that time\n",
    "            # get all the medicines that the patient must take at that time\n",
    "            medicines_quantities = row.drop(['hour']).dropna().tolist()\n",
    "            therapy = [(x, y) for x, y in zip(medicines_quantities[::2], medicines_quantities[1::2])]\n",
    "            therapy_plan[row['hour']] = therapy\n",
    "    return therapy_plan"
   ]
  },
  {
   "cell_type": "code",
   "execution_count": null,
   "metadata": {},
   "outputs": [],
   "source": [
    "def speech_syntesis(text, mixer):\n",
    "    mp3_fp = synthesize_speech(text)\n",
    "    play_speech(mixer, mp3_fp)\n",
    "    return"
   ]
  },
  {
   "cell_type": "code",
   "execution_count": null,
   "metadata": {},
   "outputs": [],
   "source": [
    "def send_telegram_message(bot_chat_id, bot_message):\n",
    "   load_dotenv()\n",
    "   BOT_TOKEN = os.getenv(\"BOT_TOKEN\") \n",
    "   send_text = 'https://api.telegram.org/bot' + BOT_TOKEN + '/sendMessage?chat_id=' + bot_chat_id + '&parse_mode=Markdown&text=' + bot_message\n",
    "   response = requests.get(send_text)\n",
    "   return response.json()"
   ]
  },
  {
   "cell_type": "code",
   "execution_count": null,
   "metadata": {},
   "outputs": [],
   "source": [
    "def send_help_message(patient, mixer):\n",
    "    has_multiple_caregivers = len(patient['chat_ids']) > 1\n",
    "    if has_multiple_caregivers:\n",
    "        text = f\"{patient['name']} invio un messaggio ai tuoi caregiver.\"\n",
    "    else:\n",
    "        text = f\"{patient['name']} invio  un messaggio al tuo caregiver.\"\n",
    "    speech_syntesis(text, mixer)\n",
    "    for chat_id in patient['chat_ids']:\n",
    "        send_telegram_message(chat_id, f\"/sendhelp<{patient['name']}>\")\n",
    "    if has_multiple_caregivers:\n",
    "        text = f\"Okay {patient['name']}, ho inviato un messaggio ai tuoi caregiver, ti contatteranno al più presto.\"\n",
    "    else:\n",
    "        text = f\"Okay {patient['name']}, ho inviato un messaggio al tuo caregiver, ti contatterà al più presto.\"\n",
    "    speech_syntesis(text, mixer)\n",
    "    return"
   ]
  },
  {
   "cell_type": "code",
   "execution_count": null,
   "metadata": {},
   "outputs": [],
   "source": [
    "def greet_patient(patient, mixer):\n",
    "    text = f\"Ciao {patient['name']}, come ti senti?\"\n",
    "    speech_syntesis(text, mixer)\n",
    "    return"
   ]
  },
  {
   "cell_type": "code",
   "execution_count": null,
   "metadata": {},
   "outputs": [],
   "source": [
    "def speech_therapy_plan_info(patient, medicines, mixer):\n",
    "    text = f\"{patient['name']} è il momento di prendere i seguenti farmaci: \"\n",
    "    for medicine in medicines:\n",
    "        text += medicine[0] + \", \"\n",
    "    speech_syntesis(text, mixer)\n",
    "    text = \"Per ogni farmaco mi mostrerai la scatola e io ti dirò se è quella corretta;\"\n",
    "    text += \"nel caso in cui lo sia ti dirò quanto prenderne\"\n",
    "    speech_syntesis(text, mixer)\n",
    "    return"
   ]
  },
  {
   "cell_type": "code",
   "execution_count": null,
   "metadata": {},
   "outputs": [],
   "source": [
    "def analyze_feelings(patient, feelings, mixer, stream, recognizer):\n",
    "    has_multiple_caregivers = len(patient['chat_ids']) > 1\n",
    "    if feelings.startswith(\"ben\"):\n",
    "        text = f\"Bene {patient['name']}, sono contento di sentire che ti senti bene!\"\n",
    "        speech_syntesis(text, mixer)\n",
    "        return\n",
    "    elif feelings.startswith(\"mal\"):\n",
    "        text = f\"Mi dispiace {patient['name']}, spero tu ti senta meglio presto.\"\n",
    "        if has_multiple_caregivers:\n",
    "            text += \"Vuoi inviare un messaggio di aiuto ai tuoi caregiver?\"\n",
    "        else:\n",
    "            text += \"Vuoi inviare un messaggio di aiuto al tuo caregiver?\"\n",
    "        speech_syntesis(text, mixer)\n",
    "        while True:\n",
    "            speech = None\n",
    "            stream.start_stream()\n",
    "            while speech == None:\n",
    "            # wait for the patient to say something\n",
    "                speech = recognize_speech(recognizer, stream)\n",
    "            stream.stop_stream()\n",
    "            if speech.startswith(\"sì\"):\n",
    "                send_help_message(patient, mixer)\n",
    "                break\n",
    "            elif speech.startswith(\"no\"):\n",
    "                break\n",
    "            else:\n",
    "                text = \"Scusa non ho capito, potresti rispondermi con sì o no?\"\n",
    "                speech_syntesis(text, mixer)\n",
    "        return\n",
    "    else:\n",
    "        text = \"Scusa non ho capito, potresti rispondermi con bene o male?\"\n",
    "        speech_syntesis(text, mixer)\n",
    "        return"
   ]
  },
  {
   "cell_type": "code",
   "execution_count": null,
   "metadata": {},
   "outputs": [],
   "source": [
    "def speech_medicine_instructions(medicine, mixer):\n",
    "    text = f\"Prendi {medicine}; quando sei pronto a farmi riconoscere la scatola dimmi scatta.\"\n",
    "    speech_syntesis(text, mixer)\n",
    "    return"
   ]
  },
  {
   "cell_type": "code",
   "execution_count": null,
   "metadata": {},
   "outputs": [],
   "source": [
    "# define a function to take a picture of the medicine box\n",
    "# and save the picture in the folder medicine/today/{medicine}.jpg\n",
    "def take_picture(today, medicine):\n",
    "    cap = cv2.VideoCapture(0)\n",
    "    if not cap.isOpened():\n",
    "        print(\"Error: Could not open video capture device.\")\n",
    "        return\n",
    "    # Capture a single frame\n",
    "    ret, frame = cap.read()\n",
    "    # Release the webcam\n",
    "    cap.release()\n",
    "    if not ret:\n",
    "        print(\"Error: Could not read frame from video capture device.\")\n",
    "        return\n",
    "    cv2.imwrite(f'./medicine/{today}/{medicine}.jpg', frame)\n",
    "    return"
   ]
  },
  {
   "cell_type": "code",
   "execution_count": null,
   "metadata": {},
   "outputs": [],
   "source": [
    "# define a function to recognize the medicine box\n",
    "# the function will perform OCR on the image, then if the parameter medicine of the function\n",
    "# is similar to one of the results of the OCR it will return True, otherwise False\n",
    "def recognize_medicine(today, medicine, ocr_model, threshold=80):\n",
    "    img_path = f'./medicine/{today}/{medicine}.jpg'\n",
    "    results = ocr_model.ocr(img_path)\n",
    "    if results != [None]:\n",
    "        for result in results:\n",
    "            for item in result:\n",
    "                predicted_name, _ = item[1]\n",
    "                predicted_name = predicted_name.lower()\n",
    "                if fuzz.partial_ratio(medicine, predicted_name) >= threshold:\n",
    "                    return True\n",
    "    return False"
   ]
  },
  {
   "cell_type": "code",
   "execution_count": null,
   "metadata": {},
   "outputs": [],
   "source": [
    "def get_medicine_instructions(patient, quantity, mixer):\n",
    "    text = f\"Bene {patient['name']} è la scatola corretta, devi prenderne {quantity}.\"\n",
    "    text += \"Quando sei pronto a procedere con il prossimo farmaco pronuncia avanti\"\n",
    "    speech_syntesis(text, mixer)\n",
    "    return"
   ]
  },
  {
   "cell_type": "code",
   "execution_count": null,
   "metadata": {},
   "outputs": [],
   "source": [
    "def goodbye_patient(patient, mixer):\n",
    "    has_multiple_caregivers = len(patient['chat_ids']) > 1\n",
    "    text = f\"Bene {patient['name']} hai preso tutti i farmaci necessari.\"\n",
    "    if has_multiple_caregivers:\n",
    "        text += \"Ora invierò un messaggio di riepilogo ai tuoi caregiver\"\n",
    "    else:\n",
    "        text += \"Ora invierò un messaggio di riepilogo al tuo caregiver\"\n",
    "    text += \"Noi ci risentiamo quando dovrai prendere i prossimi farmaci.\"\n",
    "    text += \"Intanto, nel caso tu abbia bisogno di aiuto, ricorda di pronunciare aiuto\"\n",
    "    if has_multiple_caregivers:\n",
    "        text += \"così invierò un messaggio di aiuto ai tuoi caregiver\"\n",
    "    else:\n",
    "        text += \"così invierò un messaggio di aiuto al tuo caregiver\"\n",
    "    speech_syntesis(text, mixer)\n",
    "    return"
   ]
  },
  {
   "cell_type": "code",
   "execution_count": null,
   "metadata": {},
   "outputs": [],
   "source": [
    "def send_recap_message(patient, feeling, today, hour, minute):\n",
    "    image_path = f'./medicine/{today}'\n",
    "    for chat_id in patient['chat_ids']:\n",
    "        send_telegram_message(chat_id, f\"/sendrecap<{patient['name']}><{feeling}><{image_path}><{today}-{hour}:{minute}>\")\n",
    "    return"
   ]
  },
  {
   "cell_type": "code",
   "execution_count": null,
   "metadata": {},
   "outputs": [],
   "source": [
    "def delete_images(today):\n",
    "    if os.listdir(f'./medicine/{today}'):\n",
    "        for image in os.listdir(f'./medicine/{today}'):\n",
    "            os.remove(f'./medicine/{today}/{image}')\n",
    "    return"
   ]
  },
  {
   "cell_type": "code",
   "execution_count": null,
   "metadata": {},
   "outputs": [],
   "source": [
    "delete_images('monday')"
   ]
  },
  {
   "cell_type": "code",
   "execution_count": null,
   "metadata": {},
   "outputs": [],
   "source": [
    "# save patient data\n",
    "patient = get_patient_data()\n",
    "# define the starting day\n",
    "last_day = 'monday'\n",
    "today = ''\n",
    "# setup the speech recognition module\n",
    "recognizer, stream = setup_speech_recognition()\n",
    "# setup the speech synthesis module\n",
    "mixer = setup_speech_synthesis()\n",
    "# setup the ocr module\n",
    "ocr_model = setup_ocr()\n",
    "\n",
    "while True:\n",
    "    speech = None\n",
    "    feeling = None\n",
    "    # get the current day and update if needed the therapy plan\n",
    "    today = time.strftime('%A').lower()\n",
    "    if today != last_day:\n",
    "        therapy_plan = get_therapy_plan(today)\n",
    "        last_day = today\n",
    "    delete_images(today) \n",
    "    # start the speech recognition\n",
    "    stream.start_stream()\n",
    "    # if the user says \"aiuto\" start the help procedure\n",
    "    speech = recognize_speech(recognizer, stream)\n",
    "    if speech != None and 'aiuto' in speech:\n",
    "        stream.stop_stream()\n",
    "        send_help_message(patient, mixer)\n",
    "        speech = None\n",
    "        stream.start_stream()\n",
    "    # if the helper finds out that is time to take a medicine start the therapy plan procedure\n",
    "    current_time = time.strftime('%H:%M', time.localtime())\n",
    "    if current_time in therapy_plan.keys():\n",
    "        stream.stop_stream()\n",
    "        # greet the patient and ask them how they are feeling\n",
    "        greet_patient(patient, mixer)\n",
    "        # to simulate a do while loop\n",
    "        while True:\n",
    "            speech = None\n",
    "            stream.start_stream()\n",
    "            while speech == None:\n",
    "            # wait for the patient to say something\n",
    "                speech = recognize_speech(recognizer, stream)\n",
    "            stream.stop_stream()\n",
    "            analyze_feelings(patient, speech, mixer, stream, recognizer)\n",
    "            if speech.startswith(\"ben\"):\n",
    "                feeling = \"bene\"\n",
    "                break\n",
    "            elif speech.startswith(\"mal\"):\n",
    "                feeling = \"male\"\n",
    "                break\n",
    "        # get the current medicines to take\n",
    "        medicines = therapy_plan[current_time]\n",
    "        # pronunce the therapy plan rules\n",
    "        speech_therapy_plan_info(patient, medicines, mixer)\n",
    "        for medicine, quantity in medicines:\n",
    "            speech_medicine_instructions(medicine, mixer)\n",
    "            box_recognized = False\n",
    "            # while the box is not recognized\n",
    "            while not box_recognized:\n",
    "                stream.start_stream()\n",
    "                while True:\n",
    "                    speech = None\n",
    "                    speech = recognize_speech(recognizer, stream)\n",
    "                    if speech != None and 'scatta' in speech:\n",
    "                        break\n",
    "                stream.stop_stream()\n",
    "                take_picture(today, medicine)\n",
    "                # recognize the medicine box\n",
    "                box_recognized = recognize_medicine(today, medicine, ocr_model)\n",
    "                if box_recognized:\n",
    "                    get_medicine_instructions(patient, quantity, mixer)\n",
    "                    stream.start_stream()\n",
    "                    while True:\n",
    "                        speech = None\n",
    "                        speech = recognize_speech(recognizer, stream)\n",
    "                        if speech != None and 'avanti' in speech:\n",
    "                            break\n",
    "                else:\n",
    "                    text = \"Scusa non ho riconosciuto la scatola, potresti riprovare?\"\n",
    "                    speech_syntesis(text, mixer)\n",
    "        stream.stop_stream()\n",
    "        goodbye_patient(patient, mixer)\n",
    "        current_hour = time.strftime('%H')\n",
    "        current_minute = time.strftime('%M') \n",
    "        send_recap_message(patient, feeling, today, current_hour, current_minute)"
   ]
  }
 ],
 "metadata": {
  "kernelspec": {
   "display_name": "multimodal_interaction",
   "language": "python",
   "name": "python3"
  },
  "language_info": {
   "codemirror_mode": {
    "name": "ipython",
    "version": 3
   },
   "file_extension": ".py",
   "mimetype": "text/x-python",
   "name": "python",
   "nbconvert_exporter": "python",
   "pygments_lexer": "ipython3",
   "version": "3.10.14"
  }
 },
 "nbformat": 4,
 "nbformat_minor": 2
}
