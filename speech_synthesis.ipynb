{
 "cells": [
  {
   "cell_type": "code",
   "execution_count": 2,
   "metadata": {},
   "outputs": [],
   "source": [
    "from gtts import gTTS\n",
    "from io import BytesIO\n",
    "from pygame import mixer\n",
    "import time\n",
    "\n",
    "def speak():\n",
    "    mp3_fp = BytesIO()\n",
    "    tts = gTTS('È ora di prendere la tachipirina', lang='it')\n",
    "    tts.write_to_fp(mp3_fp)\n",
    "    return mp3_fp\n",
    "\n",
    "mixer.init()\n",
    "sound = speak()\n",
    "sound.seek(0)\n",
    "mixer.music.load(sound, \"mp3\")\n",
    "mixer.music.play()"
   ]
  }
 ],
 "metadata": {
  "kernelspec": {
   "display_name": "multimodal_interaction",
   "language": "python",
   "name": "python3"
  },
  "language_info": {
   "codemirror_mode": {
    "name": "ipython",
    "version": 3
   },
   "file_extension": ".py",
   "mimetype": "text/x-python",
   "name": "python",
   "nbconvert_exporter": "python",
   "pygments_lexer": "ipython3",
   "version": "3.10.14"
  }
 },
 "nbformat": 4,
 "nbformat_minor": 2
}
